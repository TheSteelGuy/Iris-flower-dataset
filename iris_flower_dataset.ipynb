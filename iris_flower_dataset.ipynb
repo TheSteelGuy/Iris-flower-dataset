{
 "cells": [
  {
   "cell_type": "code",
   "execution_count": 3,
   "metadata": {},
   "outputs": [],
   "source": [
    "from sklearn.datasets import load_iris"
   ]
  },
  {
   "cell_type": "code",
   "execution_count": 5,
   "metadata": {},
   "outputs": [],
   "source": [
    "iris = load_iris()"
   ]
  },
  {
   "cell_type": "code",
   "execution_count": 6,
   "metadata": {},
   "outputs": [
    {
     "data": {
      "text/plain": [
       "['sepal length (cm)',\n",
       " 'sepal width (cm)',\n",
       " 'petal length (cm)',\n",
       " 'petal width (cm)']"
      ]
     },
     "execution_count": 6,
     "metadata": {},
     "output_type": "execute_result"
    }
   ],
   "source": [
    "iris.feature_names"
   ]
  },
  {
   "cell_type": "code",
   "execution_count": 14,
   "metadata": {},
   "outputs": [
    {
     "data": {
      "text/plain": [
       "array(['setosa', 'versicolor', 'virginica'], dtype='|S10')"
      ]
     },
     "execution_count": 14,
     "metadata": {},
     "output_type": "execute_result"
    }
   ],
   "source": [
    "iris.target_names\n"
   ]
  },
  {
   "cell_type": "code",
   "execution_count": 43,
   "metadata": {},
   "outputs": [
    {
     "data": {
      "text/plain": [
       "array([0, 0, 0, 0, 0, 0, 0, 0, 0, 0, 0, 0, 0, 0, 0, 0, 0, 0, 0, 0, 0, 0,\n",
       "       0, 0, 0, 0, 0, 0, 0, 0, 0, 0, 0, 0, 0, 0, 0, 0, 0, 0, 0, 0, 0, 0,\n",
       "       0, 0, 0, 0, 0, 0, 1, 1, 1, 1, 1, 1, 1, 1, 1, 1, 1, 1, 1, 1, 1, 1,\n",
       "       1, 1, 1, 1, 1, 1, 1, 1, 1, 1, 1, 1, 1, 1, 1, 1, 1, 1, 1, 1, 1, 1,\n",
       "       1, 1, 1, 1, 1, 1, 1, 1, 1, 1, 1, 1, 2, 2, 2, 2, 2, 2, 2, 2, 2, 2,\n",
       "       2, 2, 2, 2, 2, 2, 2, 2, 2, 2, 2, 2, 2, 2, 2, 2, 2, 2, 2, 2, 2, 2,\n",
       "       2, 2, 2, 2, 2, 2, 2, 2, 2, 2, 2, 2, 2, 2, 2, 2, 2, 2])"
      ]
     },
     "execution_count": 43,
     "metadata": {},
     "output_type": "execute_result"
    }
   ],
   "source": [
    "iris.target\n",
    "# 0->I. setosa\n",
    "# 1->I. versicolor\n",
    "# 2-> I. virginica\n",
    "# these are labels/species of the flowers"
   ]
  },
  {
   "cell_type": "code",
   "execution_count": 25,
   "metadata": {},
   "outputs": [
    {
     "data": {
      "text/plain": [
       "array([[5.1, 3.5, 1.4, 0.2],\n",
       "       [4.9, 3. , 1.4, 0.2],\n",
       "       [4.7, 3.2, 1.3, 0.2],\n",
       "       [4.6, 3.1, 1.5, 0.2],\n",
       "       [5. , 3.6, 1.4, 0.2],\n",
       "       [5.4, 3.9, 1.7, 0.4],\n",
       "       [4.6, 3.4, 1.4, 0.3],\n",
       "       [5. , 3.4, 1.5, 0.2],\n",
       "       [4.4, 2.9, 1.4, 0.2],\n",
       "       [4.9, 3.1, 1.5, 0.1],\n",
       "       [5.4, 3.7, 1.5, 0.2],\n",
       "       [4.8, 3.4, 1.6, 0.2],\n",
       "       [4.8, 3. , 1.4, 0.1],\n",
       "       [4.3, 3. , 1.1, 0.1],\n",
       "       [5.8, 4. , 1.2, 0.2],\n",
       "       [5.7, 4.4, 1.5, 0.4],\n",
       "       [5.4, 3.9, 1.3, 0.4],\n",
       "       [5.1, 3.5, 1.4, 0.3],\n",
       "       [5.7, 3.8, 1.7, 0.3],\n",
       "       [5.1, 3.8, 1.5, 0.3],\n",
       "       [5.4, 3.4, 1.7, 0.2],\n",
       "       [5.1, 3.7, 1.5, 0.4],\n",
       "       [4.6, 3.6, 1. , 0.2],\n",
       "       [5.1, 3.3, 1.7, 0.5],\n",
       "       [4.8, 3.4, 1.9, 0.2],\n",
       "       [5. , 3. , 1.6, 0.2],\n",
       "       [5. , 3.4, 1.6, 0.4],\n",
       "       [5.2, 3.5, 1.5, 0.2],\n",
       "       [5.2, 3.4, 1.4, 0.2],\n",
       "       [4.7, 3.2, 1.6, 0.2],\n",
       "       [4.8, 3.1, 1.6, 0.2],\n",
       "       [5.4, 3.4, 1.5, 0.4],\n",
       "       [5.2, 4.1, 1.5, 0.1],\n",
       "       [5.5, 4.2, 1.4, 0.2],\n",
       "       [4.9, 3.1, 1.5, 0.2],\n",
       "       [5. , 3.2, 1.2, 0.2],\n",
       "       [5.5, 3.5, 1.3, 0.2],\n",
       "       [4.9, 3.6, 1.4, 0.1],\n",
       "       [4.4, 3. , 1.3, 0.2],\n",
       "       [5.1, 3.4, 1.5, 0.2],\n",
       "       [5. , 3.5, 1.3, 0.3],\n",
       "       [4.5, 2.3, 1.3, 0.3],\n",
       "       [4.4, 3.2, 1.3, 0.2],\n",
       "       [5. , 3.5, 1.6, 0.6],\n",
       "       [5.1, 3.8, 1.9, 0.4],\n",
       "       [4.8, 3. , 1.4, 0.3],\n",
       "       [5.1, 3.8, 1.6, 0.2],\n",
       "       [4.6, 3.2, 1.4, 0.2],\n",
       "       [5.3, 3.7, 1.5, 0.2],\n",
       "       [5. , 3.3, 1.4, 0.2],\n",
       "       [7. , 3.2, 4.7, 1.4],\n",
       "       [6.4, 3.2, 4.5, 1.5],\n",
       "       [6.9, 3.1, 4.9, 1.5],\n",
       "       [5.5, 2.3, 4. , 1.3],\n",
       "       [6.5, 2.8, 4.6, 1.5],\n",
       "       [5.7, 2.8, 4.5, 1.3],\n",
       "       [6.3, 3.3, 4.7, 1.6],\n",
       "       [4.9, 2.4, 3.3, 1. ],\n",
       "       [6.6, 2.9, 4.6, 1.3],\n",
       "       [5.2, 2.7, 3.9, 1.4],\n",
       "       [5. , 2. , 3.5, 1. ],\n",
       "       [5.9, 3. , 4.2, 1.5],\n",
       "       [6. , 2.2, 4. , 1. ],\n",
       "       [6.1, 2.9, 4.7, 1.4],\n",
       "       [5.6, 2.9, 3.6, 1.3],\n",
       "       [6.7, 3.1, 4.4, 1.4],\n",
       "       [5.6, 3. , 4.5, 1.5],\n",
       "       [5.8, 2.7, 4.1, 1. ],\n",
       "       [6.2, 2.2, 4.5, 1.5],\n",
       "       [5.6, 2.5, 3.9, 1.1],\n",
       "       [5.9, 3.2, 4.8, 1.8],\n",
       "       [6.1, 2.8, 4. , 1.3],\n",
       "       [6.3, 2.5, 4.9, 1.5],\n",
       "       [6.1, 2.8, 4.7, 1.2],\n",
       "       [6.4, 2.9, 4.3, 1.3],\n",
       "       [6.6, 3. , 4.4, 1.4],\n",
       "       [6.8, 2.8, 4.8, 1.4],\n",
       "       [6.7, 3. , 5. , 1.7],\n",
       "       [6. , 2.9, 4.5, 1.5],\n",
       "       [5.7, 2.6, 3.5, 1. ],\n",
       "       [5.5, 2.4, 3.8, 1.1],\n",
       "       [5.5, 2.4, 3.7, 1. ],\n",
       "       [5.8, 2.7, 3.9, 1.2],\n",
       "       [6. , 2.7, 5.1, 1.6],\n",
       "       [5.4, 3. , 4.5, 1.5],\n",
       "       [6. , 3.4, 4.5, 1.6],\n",
       "       [6.7, 3.1, 4.7, 1.5],\n",
       "       [6.3, 2.3, 4.4, 1.3],\n",
       "       [5.6, 3. , 4.1, 1.3],\n",
       "       [5.5, 2.5, 4. , 1.3],\n",
       "       [5.5, 2.6, 4.4, 1.2],\n",
       "       [6.1, 3. , 4.6, 1.4],\n",
       "       [5.8, 2.6, 4. , 1.2],\n",
       "       [5. , 2.3, 3.3, 1. ],\n",
       "       [5.6, 2.7, 4.2, 1.3],\n",
       "       [5.7, 3. , 4.2, 1.2],\n",
       "       [5.7, 2.9, 4.2, 1.3],\n",
       "       [6.2, 2.9, 4.3, 1.3],\n",
       "       [5.1, 2.5, 3. , 1.1],\n",
       "       [5.7, 2.8, 4.1, 1.3],\n",
       "       [6.3, 3.3, 6. , 2.5],\n",
       "       [5.8, 2.7, 5.1, 1.9],\n",
       "       [7.1, 3. , 5.9, 2.1],\n",
       "       [6.3, 2.9, 5.6, 1.8],\n",
       "       [6.5, 3. , 5.8, 2.2],\n",
       "       [7.6, 3. , 6.6, 2.1],\n",
       "       [4.9, 2.5, 4.5, 1.7],\n",
       "       [7.3, 2.9, 6.3, 1.8],\n",
       "       [6.7, 2.5, 5.8, 1.8],\n",
       "       [7.2, 3.6, 6.1, 2.5],\n",
       "       [6.5, 3.2, 5.1, 2. ],\n",
       "       [6.4, 2.7, 5.3, 1.9],\n",
       "       [6.8, 3. , 5.5, 2.1],\n",
       "       [5.7, 2.5, 5. , 2. ],\n",
       "       [5.8, 2.8, 5.1, 2.4],\n",
       "       [6.4, 3.2, 5.3, 2.3],\n",
       "       [6.5, 3. , 5.5, 1.8],\n",
       "       [7.7, 3.8, 6.7, 2.2],\n",
       "       [7.7, 2.6, 6.9, 2.3],\n",
       "       [6. , 2.2, 5. , 1.5],\n",
       "       [6.9, 3.2, 5.7, 2.3],\n",
       "       [5.6, 2.8, 4.9, 2. ],\n",
       "       [7.7, 2.8, 6.7, 2. ],\n",
       "       [6.3, 2.7, 4.9, 1.8],\n",
       "       [6.7, 3.3, 5.7, 2.1],\n",
       "       [7.2, 3.2, 6. , 1.8],\n",
       "       [6.2, 2.8, 4.8, 1.8],\n",
       "       [6.1, 3. , 4.9, 1.8],\n",
       "       [6.4, 2.8, 5.6, 2.1],\n",
       "       [7.2, 3. , 5.8, 1.6],\n",
       "       [7.4, 2.8, 6.1, 1.9],\n",
       "       [7.9, 3.8, 6.4, 2. ],\n",
       "       [6.4, 2.8, 5.6, 2.2],\n",
       "       [6.3, 2.8, 5.1, 1.5],\n",
       "       [6.1, 2.6, 5.6, 1.4],\n",
       "       [7.7, 3. , 6.1, 2.3],\n",
       "       [6.3, 3.4, 5.6, 2.4],\n",
       "       [6.4, 3.1, 5.5, 1.8],\n",
       "       [6. , 3. , 4.8, 1.8],\n",
       "       [6.9, 3.1, 5.4, 2.1],\n",
       "       [6.7, 3.1, 5.6, 2.4],\n",
       "       [6.9, 3.1, 5.1, 2.3],\n",
       "       [5.8, 2.7, 5.1, 1.9],\n",
       "       [6.8, 3.2, 5.9, 2.3],\n",
       "       [6.7, 3.3, 5.7, 2.5],\n",
       "       [6.7, 3. , 5.2, 2.3],\n",
       "       [6.3, 2.5, 5. , 1.9],\n",
       "       [6.5, 3. , 5.2, 2. ],\n",
       "       [6.2, 3.4, 5.4, 2.3],\n",
       "       [5.9, 3. , 5.1, 1.8]])"
      ]
     },
     "execution_count": 25,
     "metadata": {},
     "output_type": "execute_result"
    }
   ],
   "source": [
    "iris.data\n",
    "#gives us the features or description of the 150 varieties of the 3 labels"
   ]
  },
  {
   "cell_type": "code",
   "execution_count": 15,
   "metadata": {},
   "outputs": [
    {
     "data": {
      "text/plain": [
       "array([5.1, 3.5, 1.4, 0.2])"
      ]
     },
     "execution_count": 15,
     "metadata": {},
     "output_type": "execute_result"
    }
   ],
   "source": [
    "iris.data[0]\n",
    "# example of the 0th index of the iris.data 2D array describing the characteristics 0th(first species) of the data set\n",
    "#5.1-> sepal length (cm)\n",
    "#3.5-> sepal width (cm)\n",
    "#1.4-> petal length (cm)\n",
    "#0.2-> petal width (cm)"
   ]
  },
  {
   "cell_type": "code",
   "execution_count": 19,
   "metadata": {},
   "outputs": [
    {
     "name": "stdout",
     "output_type": "stream",
     "text": [
      "example 0, label: 0, features [5.1 3.5 1.4 0.2]\n",
      "example 1, label: 0, features [4.9 3.  1.4 0.2]\n",
      "example 2, label: 0, features [4.7 3.2 1.3 0.2]\n",
      "example 3, label: 0, features [4.6 3.1 1.5 0.2]\n",
      "example 4, label: 0, features [5.  3.6 1.4 0.2]\n",
      "example 5, label: 0, features [5.4 3.9 1.7 0.4]\n",
      "example 6, label: 0, features [4.6 3.4 1.4 0.3]\n",
      "example 7, label: 0, features [5.  3.4 1.5 0.2]\n",
      "example 8, label: 0, features [4.4 2.9 1.4 0.2]\n",
      "example 9, label: 0, features [4.9 3.1 1.5 0.1]\n",
      "example 10, label: 0, features [5.4 3.7 1.5 0.2]\n",
      "example 11, label: 0, features [4.8 3.4 1.6 0.2]\n",
      "example 12, label: 0, features [4.8 3.  1.4 0.1]\n",
      "example 13, label: 0, features [4.3 3.  1.1 0.1]\n",
      "example 14, label: 0, features [5.8 4.  1.2 0.2]\n",
      "example 15, label: 0, features [5.7 4.4 1.5 0.4]\n",
      "example 16, label: 0, features [5.4 3.9 1.3 0.4]\n",
      "example 17, label: 0, features [5.1 3.5 1.4 0.3]\n",
      "example 18, label: 0, features [5.7 3.8 1.7 0.3]\n",
      "example 19, label: 0, features [5.1 3.8 1.5 0.3]\n",
      "example 20, label: 0, features [5.4 3.4 1.7 0.2]\n",
      "example 21, label: 0, features [5.1 3.7 1.5 0.4]\n",
      "example 22, label: 0, features [4.6 3.6 1.  0.2]\n",
      "example 23, label: 0, features [5.1 3.3 1.7 0.5]\n",
      "example 24, label: 0, features [4.8 3.4 1.9 0.2]\n",
      "example 25, label: 0, features [5.  3.  1.6 0.2]\n",
      "example 26, label: 0, features [5.  3.4 1.6 0.4]\n",
      "example 27, label: 0, features [5.2 3.5 1.5 0.2]\n",
      "example 28, label: 0, features [5.2 3.4 1.4 0.2]\n",
      "example 29, label: 0, features [4.7 3.2 1.6 0.2]\n",
      "example 30, label: 0, features [4.8 3.1 1.6 0.2]\n",
      "example 31, label: 0, features [5.4 3.4 1.5 0.4]\n",
      "example 32, label: 0, features [5.2 4.1 1.5 0.1]\n",
      "example 33, label: 0, features [5.5 4.2 1.4 0.2]\n",
      "example 34, label: 0, features [4.9 3.1 1.5 0.2]\n",
      "example 35, label: 0, features [5.  3.2 1.2 0.2]\n",
      "example 36, label: 0, features [5.5 3.5 1.3 0.2]\n",
      "example 37, label: 0, features [4.9 3.6 1.4 0.1]\n",
      "example 38, label: 0, features [4.4 3.  1.3 0.2]\n",
      "example 39, label: 0, features [5.1 3.4 1.5 0.2]\n",
      "example 40, label: 0, features [5.  3.5 1.3 0.3]\n",
      "example 41, label: 0, features [4.5 2.3 1.3 0.3]\n",
      "example 42, label: 0, features [4.4 3.2 1.3 0.2]\n",
      "example 43, label: 0, features [5.  3.5 1.6 0.6]\n",
      "example 44, label: 0, features [5.1 3.8 1.9 0.4]\n",
      "example 45, label: 0, features [4.8 3.  1.4 0.3]\n",
      "example 46, label: 0, features [5.1 3.8 1.6 0.2]\n",
      "example 47, label: 0, features [4.6 3.2 1.4 0.2]\n",
      "example 48, label: 0, features [5.3 3.7 1.5 0.2]\n",
      "example 49, label: 0, features [5.  3.3 1.4 0.2]\n",
      "example 50, label: 1, features [7.  3.2 4.7 1.4]\n",
      "example 51, label: 1, features [6.4 3.2 4.5 1.5]\n",
      "example 52, label: 1, features [6.9 3.1 4.9 1.5]\n",
      "example 53, label: 1, features [5.5 2.3 4.  1.3]\n",
      "example 54, label: 1, features [6.5 2.8 4.6 1.5]\n",
      "example 55, label: 1, features [5.7 2.8 4.5 1.3]\n",
      "example 56, label: 1, features [6.3 3.3 4.7 1.6]\n",
      "example 57, label: 1, features [4.9 2.4 3.3 1. ]\n",
      "example 58, label: 1, features [6.6 2.9 4.6 1.3]\n",
      "example 59, label: 1, features [5.2 2.7 3.9 1.4]\n",
      "example 60, label: 1, features [5.  2.  3.5 1. ]\n",
      "example 61, label: 1, features [5.9 3.  4.2 1.5]\n",
      "example 62, label: 1, features [6.  2.2 4.  1. ]\n",
      "example 63, label: 1, features [6.1 2.9 4.7 1.4]\n",
      "example 64, label: 1, features [5.6 2.9 3.6 1.3]\n",
      "example 65, label: 1, features [6.7 3.1 4.4 1.4]\n",
      "example 66, label: 1, features [5.6 3.  4.5 1.5]\n",
      "example 67, label: 1, features [5.8 2.7 4.1 1. ]\n",
      "example 68, label: 1, features [6.2 2.2 4.5 1.5]\n",
      "example 69, label: 1, features [5.6 2.5 3.9 1.1]\n",
      "example 70, label: 1, features [5.9 3.2 4.8 1.8]\n",
      "example 71, label: 1, features [6.1 2.8 4.  1.3]\n",
      "example 72, label: 1, features [6.3 2.5 4.9 1.5]\n",
      "example 73, label: 1, features [6.1 2.8 4.7 1.2]\n",
      "example 74, label: 1, features [6.4 2.9 4.3 1.3]\n",
      "example 75, label: 1, features [6.6 3.  4.4 1.4]\n",
      "example 76, label: 1, features [6.8 2.8 4.8 1.4]\n",
      "example 77, label: 1, features [6.7 3.  5.  1.7]\n",
      "example 78, label: 1, features [6.  2.9 4.5 1.5]\n",
      "example 79, label: 1, features [5.7 2.6 3.5 1. ]\n",
      "example 80, label: 1, features [5.5 2.4 3.8 1.1]\n",
      "example 81, label: 1, features [5.5 2.4 3.7 1. ]\n",
      "example 82, label: 1, features [5.8 2.7 3.9 1.2]\n",
      "example 83, label: 1, features [6.  2.7 5.1 1.6]\n",
      "example 84, label: 1, features [5.4 3.  4.5 1.5]\n",
      "example 85, label: 1, features [6.  3.4 4.5 1.6]\n",
      "example 86, label: 1, features [6.7 3.1 4.7 1.5]\n",
      "example 87, label: 1, features [6.3 2.3 4.4 1.3]\n",
      "example 88, label: 1, features [5.6 3.  4.1 1.3]\n",
      "example 89, label: 1, features [5.5 2.5 4.  1.3]\n",
      "example 90, label: 1, features [5.5 2.6 4.4 1.2]\n",
      "example 91, label: 1, features [6.1 3.  4.6 1.4]\n",
      "example 92, label: 1, features [5.8 2.6 4.  1.2]\n",
      "example 93, label: 1, features [5.  2.3 3.3 1. ]\n",
      "example 94, label: 1, features [5.6 2.7 4.2 1.3]\n",
      "example 95, label: 1, features [5.7 3.  4.2 1.2]\n",
      "example 96, label: 1, features [5.7 2.9 4.2 1.3]\n",
      "example 97, label: 1, features [6.2 2.9 4.3 1.3]\n",
      "example 98, label: 1, features [5.1 2.5 3.  1.1]\n",
      "example 99, label: 1, features [5.7 2.8 4.1 1.3]\n",
      "example 100, label: 2, features [6.3 3.3 6.  2.5]\n",
      "example 101, label: 2, features [5.8 2.7 5.1 1.9]\n",
      "example 102, label: 2, features [7.1 3.  5.9 2.1]\n",
      "example 103, label: 2, features [6.3 2.9 5.6 1.8]\n",
      "example 104, label: 2, features [6.5 3.  5.8 2.2]\n",
      "example 105, label: 2, features [7.6 3.  6.6 2.1]\n",
      "example 106, label: 2, features [4.9 2.5 4.5 1.7]\n",
      "example 107, label: 2, features [7.3 2.9 6.3 1.8]\n",
      "example 108, label: 2, features [6.7 2.5 5.8 1.8]\n",
      "example 109, label: 2, features [7.2 3.6 6.1 2.5]\n",
      "example 110, label: 2, features [6.5 3.2 5.1 2. ]\n",
      "example 111, label: 2, features [6.4 2.7 5.3 1.9]\n",
      "example 112, label: 2, features [6.8 3.  5.5 2.1]\n",
      "example 113, label: 2, features [5.7 2.5 5.  2. ]\n",
      "example 114, label: 2, features [5.8 2.8 5.1 2.4]\n",
      "example 115, label: 2, features [6.4 3.2 5.3 2.3]\n",
      "example 116, label: 2, features [6.5 3.  5.5 1.8]\n",
      "example 117, label: 2, features [7.7 3.8 6.7 2.2]\n",
      "example 118, label: 2, features [7.7 2.6 6.9 2.3]\n",
      "example 119, label: 2, features [6.  2.2 5.  1.5]\n",
      "example 120, label: 2, features [6.9 3.2 5.7 2.3]\n",
      "example 121, label: 2, features [5.6 2.8 4.9 2. ]\n",
      "example 122, label: 2, features [7.7 2.8 6.7 2. ]\n",
      "example 123, label: 2, features [6.3 2.7 4.9 1.8]\n",
      "example 124, label: 2, features [6.7 3.3 5.7 2.1]\n",
      "example 125, label: 2, features [7.2 3.2 6.  1.8]\n",
      "example 126, label: 2, features [6.2 2.8 4.8 1.8]\n",
      "example 127, label: 2, features [6.1 3.  4.9 1.8]\n",
      "example 128, label: 2, features [6.4 2.8 5.6 2.1]\n",
      "example 129, label: 2, features [7.2 3.  5.8 1.6]\n",
      "example 130, label: 2, features [7.4 2.8 6.1 1.9]\n",
      "example 131, label: 2, features [7.9 3.8 6.4 2. ]\n",
      "example 132, label: 2, features [6.4 2.8 5.6 2.2]\n",
      "example 133, label: 2, features [6.3 2.8 5.1 1.5]\n",
      "example 134, label: 2, features [6.1 2.6 5.6 1.4]\n",
      "example 135, label: 2, features [7.7 3.  6.1 2.3]\n",
      "example 136, label: 2, features [6.3 3.4 5.6 2.4]\n",
      "example 137, label: 2, features [6.4 3.1 5.5 1.8]\n",
      "example 138, label: 2, features [6.  3.  4.8 1.8]\n",
      "example 139, label: 2, features [6.9 3.1 5.4 2.1]\n",
      "example 140, label: 2, features [6.7 3.1 5.6 2.4]\n",
      "example 141, label: 2, features [6.9 3.1 5.1 2.3]\n",
      "example 142, label: 2, features [5.8 2.7 5.1 1.9]\n",
      "example 143, label: 2, features [6.8 3.2 5.9 2.3]\n",
      "example 144, label: 2, features [6.7 3.3 5.7 2.5]\n",
      "example 145, label: 2, features [6.7 3.  5.2 2.3]\n",
      "example 146, label: 2, features [6.3 2.5 5.  1.9]\n",
      "example 147, label: 2, features [6.5 3.  5.2 2. ]\n",
      "example 148, label: 2, features [6.2 3.4 5.4 2.3]\n",
      "example 149, label: 2, features [5.9 3.  5.1 1.8]\n"
     ]
    }
   ],
   "source": [
    "for i in range (len(iris.target)):\n",
    "    print(\"example %d, label: %s, features %s\"%(i, iris.target[i],iris.data[i]))"
   ]
  },
  {
   "cell_type": "code",
   "execution_count": 38,
   "metadata": {},
   "outputs": [],
   "source": [
    "import numpy as np\n",
    "test_idx = [0,50,100]\n",
    "# remove from the dataset the first, 50th and 100th label for later testing the model\n",
    "# training dataset \n",
    "train_target = np.delete(iris.target,test_idx)\n",
    "train_data = np.delete(iris.data,test_idx, axis=0)\n",
    "\n"
   ]
  },
  {
   "cell_type": "code",
   "execution_count": 40,
   "metadata": {},
   "outputs": [
    {
     "name": "stdout",
     "output_type": "stream",
     "text": [
      "[[5.1 3.5 1.4 0.2]\n",
      " [7.  3.2 4.7 1.4]\n",
      " [6.3 3.3 6.  2.5]]\n"
     ]
    }
   ],
   "source": [
    "# testing data\n",
    "test_target = iris.target[test_idx]\n",
    "test_data = iris.data[test_idx]"
   ]
  },
  {
   "cell_type": "code",
   "execution_count": 47,
   "metadata": {},
   "outputs": [
    {
     "name": "stdout",
     "output_type": "stream",
     "text": [
      "[0 1 2]\n"
     ]
    }
   ],
   "source": [
    "from sklearn import tree\n",
    "classifier = tree.DecisionTreeClassifier()\n",
    "classifier.fit(train_data, train_target)\n",
    "print(test_target)"
   ]
  },
  {
   "cell_type": "code",
   "execution_count": 48,
   "metadata": {},
   "outputs": [
    {
     "data": {
      "text/plain": [
       "array([0, 1, 2])"
      ]
     },
     "execution_count": 48,
     "metadata": {},
     "output_type": "execute_result"
    }
   ],
   "source": [
    "classifier.predict(test_data)"
   ]
  },
  {
   "cell_type": "code",
   "execution_count": null,
   "metadata": {},
   "outputs": [],
   "source": []
  }
 ],
 "metadata": {
  "kernelspec": {
   "display_name": "Python 2",
   "language": "python",
   "name": "python2"
  },
  "language_info": {
   "codemirror_mode": {
    "name": "ipython",
    "version": 2
   },
   "file_extension": ".py",
   "mimetype": "text/x-python",
   "name": "python",
   "nbconvert_exporter": "python",
   "pygments_lexer": "ipython2",
   "version": "2.7.15"
  }
 },
 "nbformat": 4,
 "nbformat_minor": 2
}
